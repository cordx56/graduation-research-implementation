{
 "cells": [
  {
   "cell_type": "code",
   "execution_count": 2,
   "metadata": {},
   "outputs": [
    {
     "name": "stdout",
     "output_type": "stream",
     "text": [
      "\n",
      "\n",
      "def test(n: int) -> str:\n",
      "    if (n < 0):\n",
      "        return 'negative'\n",
      "    elif (0 < n):\n",
      "        return 'positive'\n",
      "    else:\n",
      "        return 'zero'\n",
      "\n",
      "def muladd(a: int, b: int) -> int:\n",
      "\n",
      "    def add(a: int, b: int) -> int:\n",
      "        return (a + b)\n",
      "\n",
      "    def mul(a: int, b: int) -> int:\n",
      "        return (a * b)\n",
      "    return mul(add(a, b), b)\n",
      "\n"
     ]
    }
   ],
   "source": [
    "import ast\n",
    "import astunparse\n",
    "\n",
    "with open(\"test.py\") as f:\n",
    "    source = f.read()\n",
    "\n",
    "sa = ast.parse(source)\n",
    "#sa.body[0].returns.id = 'int'\n",
    "print(astunparse.unparse(sa))"
   ]
  },
  {
   "cell_type": "code",
   "execution_count": 3,
   "metadata": {},
   "outputs": [
    {
     "name": "stdout",
     "output_type": "stream",
     "text": [
      "name: test\n",
      "args: \n",
      "    n -> int\n",
      "name: muladd\n",
      "args: \n",
      "    a -> int\n",
      "    b -> int\n"
     ]
    }
   ],
   "source": [
    "for e in sa.body:\n",
    "    if e.__class__.__name__ == 'FunctionDef':\n",
    "        print('name: {}'.format(e.name))\n",
    "        print('args: ')\n",
    "        for arg in e.args.args:\n",
    "            annotation = getattr(getattr(arg, 'annotation', False), 'id', 'Any')\n",
    "            print('    {} -> {}'.format(arg.arg, annotation))"
   ]
  },
  {
   "cell_type": "code",
   "execution_count": 4,
   "metadata": {},
   "outputs": [
    {
     "name": "stdout",
     "output_type": "stream",
     "text": [
      "name: test -> str\n",
      "args: \n",
      "    n -> int\n",
      "name: muladd -> int\n",
      "args: \n",
      "    a -> int\n",
      "    b -> int\n",
      "name: add -> int\n",
      "args: \n",
      "    a -> int\n",
      "    b -> int\n",
      "name: mul -> int\n",
      "args: \n",
      "    a -> int\n",
      "    b -> int\n"
     ]
    }
   ],
   "source": [
    "def dump_ast_function(astm):\n",
    "    if not getattr(astm, 'body', False):\n",
    "        return\n",
    "    for e in astm.body:\n",
    "        if e.__class__.__name__ == 'FunctionDef':\n",
    "            annotation = getattr(getattr(e, 'returns', False), 'id', 'Any')\n",
    "            print('name: {} -> {}'.format(e.name, annotation))\n",
    "            print('args: ')\n",
    "            for arg in e.args.args:\n",
    "                annotation = getattr(getattr(arg, 'annotation', False), 'id', 'Any')\n",
    "                print('    {} -> {}'.format(arg.arg, annotation))\n",
    "        dump_ast_function(e)\n",
    "        \n",
    "dump_ast_function(sa)"
   ]
  },
  {
   "cell_type": "code",
   "execution_count": 2,
   "metadata": {},
   "outputs": [
    {
     "name": "stdout",
     "output_type": "stream",
     "text": [
      "\n",
      "\n",
      "def fizzbuzz(n):\n",
      "    if ((n % 15) == 0):\n",
      "        return 'FizzBuzz'\n",
      "    elif ((n % 3) == 0):\n",
      "        return 'Fizz'\n",
      "    elif ((n % 5) == 0):\n",
      "        return 'Buzz'\n",
      "    else:\n",
      "        return str(n)\n",
      "\n"
     ]
    }
   ],
   "source": [
    "import ast\n",
    "import astunparse\n",
    "\n",
    "with open(\"fizzbuzz.py\") as f:\n",
    "    source = f.read()\n",
    "\n",
    "sa = ast.parse(source)\n",
    "#sa.body[0].returns = ast.Name('str')\n",
    "print(astunparse.unparse(sa))"
   ]
  },
  {
   "cell_type": "code",
   "execution_count": null,
   "metadata": {},
   "outputs": [],
   "source": []
  }
 ],
 "metadata": {
  "kernelspec": {
   "display_name": "Python 3",
   "language": "python",
   "name": "python3"
  },
  "language_info": {
   "codemirror_mode": {
    "name": "ipython",
    "version": 3
   },
   "file_extension": ".py",
   "mimetype": "text/x-python",
   "name": "python",
   "nbconvert_exporter": "python",
   "pygments_lexer": "ipython3",
   "version": "3.8.3"
  }
 },
 "nbformat": 4,
 "nbformat_minor": 4
}
