{
 "cells": [
  {
   "cell_type": "code",
   "execution_count": 1,
   "metadata": {},
   "outputs": [
    {
     "data": {
      "image/png": "[encoded data removed]",
      "text/plain": [
       "<Figure size 432x288 with 1 Axes>"
      ]
     },
     "metadata": {},
     "output_type": "display_data"
    }
   ],
   "source": [
    "from constraint_graph import ConstraintGraph\n",
    "import networkx as nx\n",
    "import ast\n",
    "\n",
    "s = \"\"\"\n",
    "def test(string):\n",
    "    a = 3.14\n",
    "    if (string):\n",
    "        a = 'str'\n",
    "    return a\n",
    "\"\"\"\n",
    "sa = ast.parse(s)\n",
    "\n",
    "cg = ConstraintGraph()\n",
    "cg.dispatch(sa.body[0].body)\n",
    "nx.draw_networkx(cg.g)"
   ]
  },
  {
   "cell_type": "code",
   "execution_count": 16,
   "metadata": {},
   "outputs": [
    {
     "data": {
      "image/svg+xml": [
       "<svg xmlns=\"http://www.w3.org/2000/svg\" xmlns:xlink=\"http://www.w3.org/1999/xlink\" width=\"182pt\" height=\"132pt\" viewBox=\"0.00 0.00 182.00 132.00\">\n",
       "<g id=\"graph0\" class=\"graph\" transform=\"scale(1 1) rotate(0) translate(4 128)\">\n",
       "<polygon fill=\"white\" stroke=\"transparent\" points=\"-4,4 -4,-128 178,-128 178,4 -4,4\"/>\n",
       "<!-- Constant_3.14 -->\n",
       "<g id=\"node1\" class=\"node\">\n",
       "<title>Constant_3.14</title>\n",
       "<ellipse fill=\"none\" stroke=\"black\" cx=\"62.03\" cy=\"-106.29\" rx=\"61.99\" ry=\"18\"/>\n",
       "<text text-anchor=\"middle\" x=\"62.03\" y=\"-102.59\" font-family=\"Times,serif\" font-size=\"14.00\">Constant_3.14</text>\n",
       "</g>\n",
       "<!-- Name_a -->\n",
       "<g id=\"node2\" class=\"node\">\n",
       "<title>Name_a</title>\n",
       "<ellipse fill=\"none\" stroke=\"black\" cx=\"107.57\" cy=\"-62.25\" rx=\"40.09\" ry=\"18\"/>\n",
       "<text text-anchor=\"middle\" x=\"107.57\" y=\"-58.55\" font-family=\"Times,serif\" font-size=\"14.00\">Name_a</text>\n",
       "</g>\n",
       "<!-- Constant_3.14&#45;&gt;Name_a -->\n",
       "<g id=\"edge1\" class=\"edge\">\n",
       "<title>Constant_3.14-&gt;Name_a</title>\n",
       "<path fill=\"none\" stroke=\"black\" d=\"M80.03,-88.88C81.12,-87.83 82.22,-86.76 83.33,-85.69\"/>\n",
       "<polygon fill=\"black\" stroke=\"black\" points=\"85.84,-88.13 90.59,-78.67 80.97,-83.1 85.84,-88.13\"/>\n",
       "</g>\n",
       "<!-- Constant_&#39;str&#39; -->\n",
       "<g id=\"node3\" class=\"node\">\n",
       "<title>Constant_'str'</title>\n",
       "<ellipse fill=\"none\" stroke=\"black\" cx=\"116.28\" cy=\"-17.9\" rx=\"57.69\" ry=\"18\"/>\n",
       "<text text-anchor=\"middle\" x=\"116.28\" y=\"-14.2\" font-family=\"Times,serif\" font-size=\"14.00\">Constant_'str'</text>\n",
       "</g>\n",
       "<!-- Constant_&#39;str&#39;&#45;&gt;Name_a -->\n",
       "<g id=\"edge2\" class=\"edge\">\n",
       "<title>Constant_'str'-&gt;Name_a</title>\n",
       "<path fill=\"none\" stroke=\"black\" d=\"M112.74,-35.94C112.72,-36.02 112.7,-36.11 112.69,-36.19\"/>\n",
       "<polygon fill=\"black\" stroke=\"black\" points=\"109.63,-33.6 111.14,-44.08 116.5,-34.94 109.63,-33.6\"/>\n",
       "</g>\n",
       "</g>\n",
       "</svg>"
      ],
      "text/plain": [
       "<IPython.core.display.SVG object>"
      ]
     },
     "metadata": {},
     "output_type": "display_data"
    }
   ],
   "source": [
    "from IPython.display import SVG, display\n",
    "ag = nx.nx_agraph.to_agraph(cg.g)\n",
    "display(SVG(ag.draw(prog='fdp', format='svg')))"
   ]
  },
  {
   "cell_type": "code",
   "execution_count": 15,
   "metadata": {},
   "outputs": [
    {
     "name": "stdout",
     "output_type": "stream",
     "text": [
      "[['str', 'float']]\n",
      "Union[float, str]\n"
     ]
    }
   ],
   "source": [
    "import typy\n",
    "return_labels = []\n",
    "for t in ast.walk(sa.body[0]):\n",
    "    if t.__class__.__name__ == 'Return':\n",
    "        label, t = cg.dispatch(t.value)\n",
    "        return_labels.append(label)\n",
    "type_candidates = list(map(cg.get_types, return_labels))\n",
    "print(type_candidates)\n",
    "type_candidates = sum(type_candidates, [])\n",
    "ret_type = typy.get_type_str_from_candidate(type_candidates)\n",
    "print(ret_type)"
   ]
  },
  {
   "cell_type": "code",
   "execution_count": 17,
   "metadata": {},
   "outputs": [
    {
     "name": "stdout",
     "output_type": "stream",
     "text": [
      "\n",
      "\n",
      "def test(string) -> Union[float, str]:\n",
      "    a = 3.14\n",
      "    if string:\n",
      "        a = 'str'\n",
      "    return a\n",
      "\n"
     ]
    }
   ],
   "source": [
    "import astunparse\n",
    "sa.body[0].returns = ast.Name(ret_type)\n",
    "print(astunparse.unparse(sa))"
   ]
  }
 ],
 "metadata": {
  "kernelspec": {
   "display_name": "Python 3",
   "language": "python",
   "name": "python3"
  },
  "language_info": {
   "codemirror_mode": {
    "name": "ipython",
    "version": 3
   },
   "file_extension": ".py",
   "mimetype": "text/x-python",
   "name": "python",
   "nbconvert_exporter": "python",
   "pygments_lexer": "ipython3",
   "version": "3.8.3"
  }
 },
 "nbformat": 4,
 "nbformat_minor": 4
}
