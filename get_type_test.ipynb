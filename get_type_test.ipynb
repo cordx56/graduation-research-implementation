{
 "cells": [
  {
   "cell_type": "code",
   "execution_count": 1,
   "metadata": {},
   "outputs": [
    {
     "name": "stdout",
     "output_type": "stream",
     "text": [
      "['List[int]']\n"
     ]
    }
   ],
   "source": [
    "import ast\n",
    "import astunparse\n",
    "from typy import *\n",
    "\n",
    "s = '''\n",
    "def test():\n",
    "    a = [1, 2, 3, 4]\n",
    "    return a\n",
    "'''\n",
    "\n",
    "sa = ast.parse(s)\n",
    "\n",
    "print(get_type_candidate({}, sa.body[0].body[0].value))"
   ]
  },
  {
   "cell_type": "code",
   "execution_count": 8,
   "metadata": {},
   "outputs": [
    {
     "name": "stdout",
     "output_type": "stream",
     "text": [
      "List[float]\n"
     ]
    }
   ],
   "source": [
    "print(get_type_str_from_candidate(get_type_candidate({}, ast.parse(\"[1, 2.2, 3, 4.4]\").body[0].value)))"
   ]
  },
  {
   "cell_type": "code",
   "execution_count": null,
   "metadata": {},
   "outputs": [],
   "source": []
  }
 ],
 "metadata": {
  "kernelspec": {
   "display_name": "Python 3",
   "language": "python",
   "name": "python3"
  },
  "language_info": {
   "codemirror_mode": {
    "name": "ipython",
    "version": 3
   },
   "file_extension": ".py",
   "mimetype": "text/x-python",
   "name": "python",
   "nbconvert_exporter": "python",
   "pygments_lexer": "ipython3",
   "version": "3.8.3"
  }
 },
 "nbformat": 4,
 "nbformat_minor": 4
}
