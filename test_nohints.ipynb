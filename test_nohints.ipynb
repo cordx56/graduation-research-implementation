{
 "cells": [
  {
   "cell_type": "code",
   "execution_count": 94,
   "metadata": {},
   "outputs": [
    {
     "name": "stdout",
     "output_type": "stream",
     "text": [
      "\n",
      "\n",
      "def test():\n",
      "    a = {}\n",
      "    return a\n",
      "\n",
      "def return_str():\n",
      "    a = A()\n",
      "    if (a == 'test'):\n",
      "        b = a\n",
      "    return a.return_string()\n",
      "\n",
      "class A():\n",
      "    a = 'test'\n",
      "\n",
      "    def return_string(self):\n",
      "        return self.a\n",
      "if (__name__ == '__main__'):\n",
      "    print(return_str())\n",
      "\n"
     ]
    }
   ],
   "source": [
    "import ast\n",
    "import astunparse\n",
    "from typy import *\n",
    "\n",
    "with open('test_nohints.py') as f:\n",
    "    s = f.read()\n",
    "sa = ast.parse(s)\n",
    "\n",
    "print(astunparse.unparse(sa))"
   ]
  },
  {
   "cell_type": "code",
   "execution_count": 95,
   "metadata": {},
   "outputs": [
    {
     "name": "stdout",
     "output_type": "stream",
     "text": [
      "['Dict']\n",
      "['Dict']\n"
     ]
    }
   ],
   "source": [
    "def get_type(context, astobj):\n",
    "    #print(astobj.__class__.__name__)\n",
    "    if astobj.__class__.__name__ == 'Constant':\n",
    "        return [type(astobj.value).__name__]\n",
    "    elif astobj.__class__.__name__ == 'List':\n",
    "        return [astobj.__class__.__name__]\n",
    "    elif astobj.__class__.__name__ == 'Dict':\n",
    "        return [astobj.__class__.__name__]\n",
    "    elif astobj.__class__.__name__ == 'Call':\n",
    "        print('Call: ' + astobj.func.id)\n",
    "        #get_type(context, astobj.func)\n",
    "    elif astobj.__class__.__name__ == 'Name':\n",
    "        print('Variable: ' + astobj.id)\n",
    "    elif astobj.__class__.__name__ == 'Assign':\n",
    "        get_type(context, astobj.value)\n",
    "    elif astobj.__class__.__name__ == 'BinOp':\n",
    "        lt = get_type(context, astobj.left)\n",
    "        rt = get_type(context, astobj.right)\n",
    "        if lt == rt:\n",
    "            return lt\n",
    "        elif lt == int and rt == float or lt == float and rt == int:\n",
    "            return float\n",
    "    else:\n",
    "        print('Not implemented: ' + astobj.__class__.__name__)\n",
    "\n",
    "print(get_type({'class':'A'}, sa.body[0].body[0].value))\n",
    "print(get_type_candidate({'class':'A'}, sa.body[0].body[0].value))"
   ]
  },
  {
   "cell_type": "code",
   "execution_count": 83,
   "metadata": {},
   "outputs": [
    {
     "name": "stdout",
     "output_type": "stream",
     "text": [
      "Module\n",
      "    FunctionDef\n",
      "        Return\n",
      "    FunctionDef\n",
      "        Assign\n",
      "Call: A\n",
      "None\n",
      "        If\n",
      "            Assign\n",
      "Variable: a\n",
      "None\n",
      "        Return\n",
      "    ClassDef\n",
      "        Assign\n",
      "['str']\n",
      "        FunctionDef\n",
      "            Return\n",
      "    If\n",
      "        Expr\n"
     ]
    },
    {
     "data": {
      "text/plain": [
       "{'function': {'test': {'name': 'test', 'returns': None},\n",
       "  'return_str': {'name': 'return_str', 'returns': None},\n",
       "  'return_string': {'name': 'return_string', 'returns': None}},\n",
       " 'class': {'A': {}}}"
      ]
     },
     "execution_count": 83,
     "metadata": {},
     "output_type": "execute_result"
    }
   ],
   "source": [
    "def explore_body(context, astobj, nest=0):\n",
    "    for i in range(nest):\n",
    "        print('    ', end='')\n",
    "    print(astobj.__class__.__name__)\n",
    "    if astobj.__class__.__name__ == 'Assign':\n",
    "        print(get_type(context, astobj.value))\n",
    "    for b in getattr(astobj, 'body', []):\n",
    "        if astobj.__class__.__name__ == 'FunctionDef':\n",
    "            context['function'][astobj.name] = {\n",
    "                'name': astobj.name,\n",
    "                'returns': astobj.returns\n",
    "            }\n",
    "        if astobj.__class__.__name__ == 'ClassDef':\n",
    "            context['class'][astobj.name] = {}\n",
    "    for b in getattr(astobj, 'body', []):\n",
    "        explore_body(context, b, nest + 1)\n",
    "    return context\n",
    "        \n",
    "explore_body({'function':{}, 'class':{}}, sa)"
   ]
  },
  {
   "cell_type": "code",
   "execution_count": null,
   "metadata": {},
   "outputs": [],
   "source": []
  }
 ],
 "metadata": {
  "kernelspec": {
   "display_name": "Python 3",
   "language": "python",
   "name": "python3"
  },
  "language_info": {
   "codemirror_mode": {
    "name": "ipython",
    "version": 3
   },
   "file_extension": ".py",
   "mimetype": "text/x-python",
   "name": "python",
   "nbconvert_exporter": "python",
   "pygments_lexer": "ipython3",
   "version": "3.8.3"
  }
 },
 "nbformat": 4,
 "nbformat_minor": 4
}
