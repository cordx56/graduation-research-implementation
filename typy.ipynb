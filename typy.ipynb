{
 "cells": [
  {
   "cell_type": "code",
   "execution_count": 4,
   "metadata": {},
   "outputs": [],
   "source": [
    "from typing import List\n",
    "\n",
    "def get_type_str_from_candidate(candidate: List[str]) -> str:\n",
    "    candidate = set(candidate)\n",
    "    if len(candidate) == 0:\n",
    "        return 'Any'\n",
    "    elif len(candidate) == 1:\n",
    "        return candidate.pop()\n",
    "    elif len(candidate) == 2 and 'None' in candidate:\n",
    "        candidate.remove('None')\n",
    "        return 'Optional[{}]'.format(candidate.pop())\n",
    "    else:\n",
    "        if 'float' in candidate and candidate <= {'int', 'float'}:\n",
    "            return 'float'\n",
    "        if 'complex' in candidate and candidate <= {'int', 'float', 'complex'}:\n",
    "            return 'complex'\n",
    "        return 'Union[{}]'.format(', '.join(candidate))\n",
    "\n",
    "def get_type_candidate(context, astobj) -> List[str]:\n",
    "    if astobj.__class__.__name__ == 'Constant':\n",
    "        # NoneType\n",
    "        if astobj.value is None:\n",
    "            return ['None']\n",
    "        return [type(astobj.value).__name__]\n",
    "    elif astobj.__class__.__name__ == 'List':\n",
    "        eltsType = []\n",
    "        for e in astobj.elts:\n",
    "            eltsType.extend(get_type_candidate(context, e))\n",
    "        return ['List[{}]'.format(get_type_str_from_candidate(eltsType))]\n",
    "    elif astobj.__class__.__name__ == 'Set':\n",
    "        eltsType = []\n",
    "        for e in astobj.elts:\n",
    "            eltsType.extend(get_type_candidate(context, e))\n",
    "        return ['Set[{}]'.format(get_type_str_from_candidate(eltsType))]\n",
    "    elif astobj.__class__.__name__ == 'Dict':\n",
    "        keysType = []\n",
    "        valuesType = []\n",
    "        for e in astobj.keys:\n",
    "            keysType.extend(get_type_candidate(context, e))\n",
    "        for e in astobj.values:\n",
    "            valuesType.extend(get_type_candidate(context, e))\n",
    "        return ['Dict[{}, {}]'.format(get_type_str_from_candidate(keysType), get_type_str_from_candidate(valuesType))]\n",
    "    elif astobj.__class__.__name__ == 'Tuple':\n",
    "        eltsType = []\n",
    "        for e in astobj.elts:\n",
    "            eltsType.append(get_type_candidate(context, e))\n",
    "        return ['Tuple[{}]'.format(', '.join(map(get_type_str_from_candidate, eltsType)))]\n",
    "    else:\n",
    "        return []\n"
   ]
  },
  {
   "cell_type": "code",
   "execution_count": 6,
   "metadata": {},
   "outputs": [
    {
     "name": "stdout",
     "output_type": "stream",
     "text": [
      "['List[float]']\n"
     ]
    }
   ],
   "source": [
    "import ast\n",
    "import astunparse\n",
    "\n",
    "s = '''\n",
    "def test():\n",
    "    a = [1, 2.2, 3, 4.4]\n",
    "    return a\n",
    "'''\n",
    "\n",
    "sa = ast.parse(s)\n",
    "\n",
    "print(get_type_candidate({}, sa.body[0].body[0].value))"
   ]
  }
 ],
 "metadata": {
  "kernelspec": {
   "display_name": "Python 3",
   "language": "python",
   "name": "python3"
  },
  "language_info": {
   "codemirror_mode": {
    "name": "ipython",
    "version": 3
   },
   "file_extension": ".py",
   "mimetype": "text/x-python",
   "name": "python",
   "nbconvert_exporter": "python",
   "pygments_lexer": "ipython3",
   "version": "3.8.5"
  }
 },
 "nbformat": 4,
 "nbformat_minor": 4
}
